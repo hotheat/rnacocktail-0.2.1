{
 "cells": [
  {
   "cell_type": "code",
   "execution_count": 1,
   "metadata": {
    "collapsed": false
   },
   "outputs": [
    {
     "name": "stdout",
     "output_type": "stream",
     "text": [
      "Populating the interactive namespace from numpy and matplotlib\n"
     ]
    }
   ],
   "source": [
    "%pylab inline"
   ]
  },
  {
   "cell_type": "code",
   "execution_count": 2,
   "metadata": {
    "collapsed": true
   },
   "outputs": [],
   "source": [
    "import numpy as np\n",
    "import os\n",
    "import glob\n",
    "import pickle\n",
    "from operator import itemgetter\n",
    "from Bio import SeqIO\n",
    "import csv\n",
    "import scipy\n",
    "from scipy import stats\n",
    "import pybedtools\n",
    "from matplotlib_venn import venn3, venn3_circles,venn3_unweighted,venn2\n",
    "import seaborn as sns\n",
    "from pandas import DataFrame\n"
   ]
  },
  {
   "cell_type": "markdown",
   "metadata": {},
   "source": [
    "# Initialization"
   ]
  },
  {
   "cell_type": "code",
   "execution_count": 11,
   "metadata": {
    "collapsed": true
   },
   "outputs": [],
   "source": [
    "tools=[\"IDP-fusion\",\"FusionCatcher\"]\n",
    "sample=\"MCF7\"\n",
    "\n",
    "gencode_gtf=\"/path/to/gencode.v19.annotation.gtf\"\n",
    "gold_set=\"/path/to/idp_gold_set.txt\""
   ]
  },
  {
   "cell_type": "markdown",
   "metadata": {},
   "source": [
    "# Prediction"
   ]
  },
  {
   "cell_type": "code",
   "execution_count": 4,
   "metadata": {
    "collapsed": false
   },
   "outputs": [],
   "source": [
    "pred_file={}\n",
    "\n",
    "\n",
    "pred_file[\"FusionCatcher\"]=\"/path/to/final-list_candidate-fusion-genes.txt\"\n",
    "pred_file[\"IDP-fusion\"]=\"/path/to/preds.txt\""
   ]
  },
  {
   "cell_type": "markdown",
   "metadata": {},
   "source": [
    "# Functions"
   ]
  },
  {
   "cell_type": "code",
   "execution_count": 5,
   "metadata": {
    "collapsed": false
   },
   "outputs": [],
   "source": [
    "def parse_fusion(predfile,tool):\n",
    "    preds=[]\n",
    "    \n",
    "    if tool==\"FusionCatcher\":\n",
    "        with open(predfile,\"r\") as csv_file:\n",
    "            spamreader = csv.reader(csv_file, delimiter='\\t', quotechar='|')\n",
    "            cnt=0\n",
    "            for row in spamreader:\n",
    "                if cnt==0:\n",
    "                    cnt+=1\n",
    "                    continue\n",
    "                if cnt==1:\n",
    "                    preds.append([row[0],row[1],row[8].split(\":\")[0],\n",
    "                                  row[8].split(\":\")[1],row[9].split(\":\")[0],row[9].split(\":\")[1]])\n",
    "    elif tool==\"IDP-fusion\":\n",
    "        with open(predfile,\"r\") as csv_file:\n",
    "            spamreader = csv.reader(csv_file, delimiter='\\t', quotechar='|')\n",
    "            cnt=0\n",
    "            for row in spamreader:\n",
    "                if cnt==0:\n",
    "                    cnt+=1\n",
    "                    continue\n",
    "                if cnt==1:\n",
    "                    if not row[0]:\n",
    "                        continue\n",
    "                    preds.append([row[0].split(\"-\")[0],row[0].split(\"-\")[1],\n",
    "                                  row[9].split(\"chr\")[1],\n",
    "                                  row[10],\n",
    "                                  row[13].split(\"chr\")[1],\n",
    "                                  row[14]\n",
    "                                 ])\n",
    "    else:\n",
    "        print \"NO file \", tool\n",
    "        \n",
    "    \n",
    "    Fs=set([])\n",
    "    nonredundant_preds=[]\n",
    "    for pred in preds:\n",
    "        g1,g2=pred[0:2]\n",
    "        fs=\"%s:%s\"%(g1,g2)\n",
    "        if fs not in Fs:\n",
    "            nonredundant_preds.append(pred)\n",
    "            Fs.add(fs)\n",
    "        \n",
    "    return nonredundant_preds\n",
    "\n"
   ]
  },
  {
   "cell_type": "code",
   "execution_count": 6,
   "metadata": {
    "collapsed": false,
    "scrolled": true
   },
   "outputs": [],
   "source": [
    "def parse_gold(goldfile):\n",
    "    gs=[]\n",
    "    with open(goldfile,\"r\") as csv_file:\n",
    "        spamreader = csv.reader(csv_file, delimiter='\\t', quotechar='|')\n",
    "        for row in spamreader:\n",
    "            gs.append(row)\n",
    "\n",
    "    genes=set([x for w in gs for x in w])\n",
    "    coord={}\n",
    "    for gene in genes:\n",
    "        if gene[0:3]==\"chr\":\n",
    "            c=gene.split(\":\")[0][3:]\n",
    "            p1=gene.split(\":\")[1].split(\"-\")[0]\n",
    "            p2=gene.split(\":\")[1].split(\"-\")[1] if \"-\" in gene else str(int(p1)+1)\n",
    "            coord[gene]=[c,p1,p2]\n",
    "            \n",
    "    with open(gencode_gtf,\"r\") as csv_file:\n",
    "        spamreader = csv.reader(csv_file, delimiter='\\t', quotechar='|')\n",
    "        for row in spamreader:\n",
    "            if row[0][0]==\"#\":\n",
    "                continue\n",
    "            if row[2]==\"gene\":\n",
    "                gene_info = {k.split()[0]:k.split()[1][1:-1] for k in ' '.join(row[8:]).split(\";\")[:-1]}\n",
    "                name=gene_info[\"gene_name\"]\n",
    "                if name in genes:\n",
    "                    if name in coord:\n",
    "                        print \"DUP\",name\n",
    "                    coord[name]=[row[0],row[3],row[4]]\n",
    "                    \n",
    "    gs=map(lambda x:x+coord[x[0]]+coord[x[1]],gs)\n",
    "    return gs,coord\n",
    "\n",
    "gs,coord=parse_gold(gold_set)\n",
    "genes_gs=set([x for w in gs for x in w[0:2]])\n",
    "gs_dict={}\n",
    "for g in gs:\n",
    "    if g[0] not in gs_dict:\n",
    "        gs_dict[g[0]]={}\n",
    "    if g[1] not in gs_dict[g[0]]:\n",
    "        gs_dict[g[0]][g[1]]=[]\n",
    "    gs_dict[g[0]][g[1]].append(g[2:])\n",
    "    if g[1] not in gs_dict:\n",
    "        gs_dict[g[1]]={}\n",
    "    if g[0] not in gs_dict[g[1]]:\n",
    "        gs_dict[g[1]][g[0]]=[]\n",
    "    gs_dict[g[0]][g[1]].append(g[2:])\n",
    "    \n",
    "intervals=[]\n",
    "processed_gs=set([])\n",
    "for g in gs:\n",
    "    if g[0] not in processed_gs:\n",
    "        intervals.append(pybedtools.Interval(chrom=g[2],start=int(g[3]),end=int(g[4]),name=g[0]))\n",
    "        processed_gs.add(g[0])\n",
    "    if g[1] not in processed_gs:\n",
    "        intervals.append(pybedtools.Interval(chrom=g[5],start=int(g[6]),end=int(g[7]),name=g[1]))\n",
    "        processed_gs.add(g[1])\n",
    "\n",
    "gs_bed=pybedtools.BedTool(intervals).sort()       \n",
    "\n"
   ]
  },
  {
   "cell_type": "code",
   "execution_count": 7,
   "metadata": {
    "collapsed": false
   },
   "outputs": [],
   "source": [
    "def evaluate(pred):\n",
    "    tp=0\n",
    "    fp=0\n",
    "    for fusion in pred:\n",
    "        g1,g2,c1,p1,c2,p2=fusion\n",
    "        if g1 not in genes_gs:\n",
    "            my_bed1=pybedtools.BedTool([pybedtools.Interval(chrom=c1,start=int(p1),end=int(p1)+1,name=g1)])\n",
    "            matches1=my_bed1.window(gs_bed,w=0)\n",
    "            if len(matches1)>1:\n",
    "                aaaa\n",
    "            elif len(matches1)==1:\n",
    "                g1=matches1[0][9]\n",
    "            else:\n",
    "                fp+=1\n",
    "                continue\n",
    "\n",
    "        if g2 not in genes_gs:\n",
    "            my_bed2=pybedtools.BedTool([pybedtools.Interval(chrom=c2,start=int(p2),end=int(p2)+1,name=g2)])\n",
    "            matches2=my_bed2.window(gs_bed,w=0)\n",
    "            if len(matches2)>1:\n",
    "                aaaa\n",
    "            elif len(matches2)==1:\n",
    "                g2=matches2[0][9]\n",
    "            else:\n",
    "                fp+=1\n",
    "                continue\n",
    "        \n",
    "        \n",
    "        if g2 in gs_dict[g1]:\n",
    "            tp+=1\n",
    "        else:\n",
    "            fp+=1\n",
    "\n",
    "    print fp,tp,len(pred)-fp-tp\n",
    "    return fp,tp"
   ]
  },
  {
   "cell_type": "code",
   "execution_count": 8,
   "metadata": {
    "collapsed": false
   },
   "outputs": [],
   "source": [
    "preds={}\n",
    "for tool in tools:\n",
    "    pred=parse_fusion(pred_file[tool],tool)\n",
    "    preds[tool]=pred"
   ]
  },
  {
   "cell_type": "code",
   "execution_count": 9,
   "metadata": {
    "collapsed": false
   },
   "outputs": [
    {
     "name": "stdout",
     "output_type": "stream",
     "text": [
      "16 19 0\n",
      "IDP-fusion {'FP': 16, 'PR': 0.5428555918411662, 'SN': 0.2676056338028169, 'TP': 19}\n",
      "51 27 0\n",
      "FusionCatcher {'FP': 51, 'PR': 0.34615340236743286, 'SN': 0.38028169014084506, 'TP': 27}\n"
     ]
    }
   ],
   "source": [
    "performance={}\n",
    "for tool in tools:\n",
    "    fp,tp=evaluate(preds[tool]) \n",
    "    performance[tool]={\"FP\":fp,\"TP\":tp,\"PR\":tp/float(tp+fp+0.0001),\"SN\":tp/float(len(gs))}\n",
    "    print tool,performance[tool]\n"
   ]
  },
  {
   "cell_type": "code",
   "execution_count": 10,
   "metadata": {
    "collapsed": false
   },
   "outputs": [
    {
     "data": {
      "text/plain": [
       "<matplotlib.legend.Legend at 0x5160110>"
      ]
     },
     "execution_count": 10,
     "metadata": {},
     "output_type": "execute_result"
    },
    {
     "data": {
      "image/png": "[encoded data removed]",
      "text/plain": [
       "<matplotlib.figure.Figure at 0x5168750>"
      ]
     },
     "metadata": {},
     "output_type": "display_data"
    }
   ],
   "source": [
    "sns.set(style=\"white\",font_scale=2) \n",
    "fig, ax = plt.subplots(figsize=(6,6))\n",
    "x=[]\n",
    "y=[]\n",
    "for tool in tools:\n",
    "    x=(performance[tool][\"SN\"]*100)\n",
    "    y=(performance[tool][\"PR\"]*100)\n",
    "    label=tool\n",
    "    ax.plot(x,y,label=label,linestyle=\"\"\n",
    "               ,marker=\"o\",markersize=25)\n",
    "ax.set_yticks(range(0,70,10))\n",
    "ax.set_ylim([0,60])\n",
    "ax.set_xticks(range(20,55,5))\n",
    "ax.set_xlim([20,50])\n",
    "ax.set_xlabel(\"Sensitivity(%)\")\n",
    "ax.set_ylabel(\"Precision(%)\")\n",
    "\n",
    "ax.legend(bbox_to_anchor=(1, 0.8, 1.1, 0.1), loc=1,ncol=1,\n",
    "          mode=\"expand\", borderaxespad=0.,frameon=False)\n"
   ]
  },
  {
   "cell_type": "code",
   "execution_count": null,
   "metadata": {
    "collapsed": true
   },
   "outputs": [],
   "source": []
  },
  {
   "cell_type": "code",
   "execution_count": null,
   "metadata": {
    "collapsed": true
   },
   "outputs": [],
   "source": []
  }
 ],
 "metadata": {
  "kernelspec": {
   "display_name": "Python 2",
   "language": "python",
   "name": "python2"
  },
  "language_info": {
   "codemirror_mode": {
    "name": "ipython",
    "version": 2
   },
   "file_extension": ".py",
   "mimetype": "text/x-python",
   "name": "python",
   "nbconvert_exporter": "python",
   "pygments_lexer": "ipython2",
   "version": "2.7.3"
  }
 },
 "nbformat": 4,
 "nbformat_minor": 0
}
