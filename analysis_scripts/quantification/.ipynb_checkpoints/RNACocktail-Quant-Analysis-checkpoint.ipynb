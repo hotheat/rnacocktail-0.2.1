{
 "cells": [
  {
   "cell_type": "code",
   "execution_count": 1,
   "metadata": {
    "collapsed": false
   },
   "outputs": [
    {
     "name": "stdout",
     "output_type": "stream",
     "text": [
      "Populating the interactive namespace from numpy and matplotlib\n"
     ]
    }
   ],
   "source": [
    "%pylab inline"
   ]
  },
  {
   "cell_type": "code",
   "execution_count": 2,
   "metadata": {
    "collapsed": false
   },
   "outputs": [],
   "source": [
    "import numpy as np\n",
    "import os\n",
    "import glob\n",
    "import pickle\n",
    "from operator import itemgetter\n",
    "from Bio import SeqIO\n",
    "import csv\n",
    "import scipy\n",
    "from scipy import stats\n",
    "import statsmodels.api as sm\n",
    "import seaborn as sns\n"
   ]
  },
  {
   "cell_type": "markdown",
   "metadata": {},
   "source": [
    "# Initialization"
   ]
  },
  {
   "cell_type": "code",
   "execution_count": 3,
   "metadata": {
    "collapsed": true
   },
   "outputs": [],
   "source": [
    "housekeeping_file=\"/path/to/housekeeping.txt\"\n",
    "\n",
    "samples=[\"SEQC_A1\",\"SEQC_A2\"]"
   ]
  },
  {
   "cell_type": "markdown",
   "metadata": {},
   "source": [
    "# Predictions"
   ]
  },
  {
   "cell_type": "code",
   "execution_count": 4,
   "metadata": {
    "collapsed": false,
    "scrolled": true
   },
   "outputs": [],
   "source": [
    "quant_file={}\n",
    "\n",
    "quant_file[\"SEQC_A1\"]=\"/path/to/quant.sf\"\n",
    "quant_file[\"SEQC_A2\"]=\"/path/to/quant.sf\""
   ]
  },
  {
   "cell_type": "markdown",
   "metadata": {},
   "source": [
    "# Functions"
   ]
  },
  {
   "cell_type": "code",
   "execution_count": 5,
   "metadata": {
    "collapsed": false
   },
   "outputs": [],
   "source": [
    "def parse_quant_results(res_file):\n",
    "    mat=[]\n",
    "    with open(res_file, 'r') as csv_f:\n",
    "        spamreader = csv.reader(csv_f, delimiter='\\t', quotechar='|')\n",
    "        cnt=-1\n",
    "        for row in spamreader:\n",
    "            cnt+=1\n",
    "            if cnt==0:\n",
    "                continue\n",
    "            mat.append([row[0],int(row[1]),float(row[2]),float(row[4]),float(row[3])])\n",
    "    return mat"
   ]
  },
  {
   "cell_type": "code",
   "execution_count": 6,
   "metadata": {
    "collapsed": false
   },
   "outputs": [],
   "source": [
    "def find_corr(x,y):\n",
    "    corr={}\n",
    "    [r,p]=scipy.stats.spearmanr(np.log2(x), np.log2(y))            \n",
    "    corr['spearman_log']=[r,p]\n",
    "    return corr\n",
    "\n"
   ]
  },
  {
   "cell_type": "code",
   "execution_count": 7,
   "metadata": {
    "collapsed": false
   },
   "outputs": [
    {
     "name": "stdout",
     "output_type": "stream",
     "text": [
      "4183 4190\n"
     ]
    }
   ],
   "source": [
    "with open(housekeeping_file) as csv_file:\n",
    "    spamreader = csv.reader(csv_file, delimiter='\\t', quotechar='|')\n",
    "    hk_genes=[]\n",
    "    hk_transcripts=[]\n",
    "    for row in spamreader:\n",
    "        hk_genes.append(row[0])\n",
    "        hk_transcripts.append(row[1])\n",
    "    hk_genes=set(hk_genes)\n",
    "    hk_transcripts=set(hk_transcripts)    \n",
    "print len(hk_genes),len(hk_transcripts)"
   ]
  },
  {
   "cell_type": "markdown",
   "metadata": {},
   "source": [
    "## Read Assembly transcripts"
   ]
  },
  {
   "cell_type": "code",
   "execution_count": 8,
   "metadata": {
    "collapsed": false
   },
   "outputs": [],
   "source": [
    "quant_stats={}\n",
    "median_hk_trans={}\n",
    "for sample in samples:\n",
    "    quant_stats[sample]=parse_quant_results(quant_file[sample])\n",
    "    x_dict={w[0]:w[4] for w in quant_stats[sample] if w[0]}\n",
    "    hks=[x_dict[k] for k in set(x_dict.keys())&hk_transcripts]\n",
    "    median_hk_trans[sample]=np.median(hks)            "
   ]
  },
  {
   "cell_type": "markdown",
   "metadata": {},
   "source": [
    "## Plots"
   ]
  },
  {
   "cell_type": "code",
   "execution_count": 9,
   "metadata": {
    "collapsed": false,
    "scrolled": true
   },
   "outputs": [],
   "source": [
    "pscnt=1\n",
    "sample1,sample2=samples\n",
    "labels=[]\n",
    "my_data=[]\n",
    "res1=quant_stats[sample1]\n",
    "res2=quant_stats[sample2]\n",
    "x_dict={w[0]:w[4]/float(median_hk_trans[sample1]) for w in res1}\n",
    "y_dict={w[0]:w[4]/float(median_hk_trans[sample2]) for w in res2}\n",
    "keys=list(set(x_dict.keys())|set(y_dict.keys()))\n",
    "keys=filter(lambda x:\"ENST\" in x,keys)\n",
    "x=np.array(map(lambda w:x_dict[w] if w in x_dict else 0,keys))\n",
    "y=np.array(map(lambda w:y_dict[w] if w in y_dict else 0,keys))\n",
    "x=x+0.5\n",
    "y=y+0.5\n",
    "f4=find((np.multiply((y>pscnt),(x>pscnt)))\n",
    "        +(np.multiply((y>pscnt),(x<=pscnt)))\n",
    "        +(np.multiply((y<=pscnt),(x>pscnt))))        \n",
    "w=(np.log2(x[f4])-np.log2(y[f4]))\n",
    "w=filter(lambda x: abs(x)>=0.000, w)\n",
    "logfc_data=w"
   ]
  },
  {
   "cell_type": "code",
   "execution_count": 10,
   "metadata": {
    "collapsed": false,
    "scrolled": false
   },
   "outputs": [
    {
     "data": {
      "text/plain": [
       "<matplotlib.text.Text at 0xf1a5ad0>"
      ]
     },
     "execution_count": 10,
     "metadata": {},
     "output_type": "execute_result"
    },
    {
     "data": {
      "image/png": "[encoded data removed]",
      "text/plain": [
       "<matplotlib.figure.Figure at 0x6743f50>"
      ]
     },
     "metadata": {},
     "output_type": "display_data"
    }
   ],
   "source": [
    "import seaborn as sns\n",
    "sns.set(style=\"whitegrid\",font_scale=2)\n",
    "fig, ax = plt.subplots(figsize=(1,4))\n",
    "my_data=logfc_data\n",
    "cg=sns.violinplot(data=my_data, palette=\"Set3\" , bw=0.2, cut=10,\n",
    "               linewidth=1,scale=\"area\",inner=\"quartile\",saturation=0.75,gridsize=500)\n",
    "ax.set_xticklabels(labels,rotation=90)\n",
    "ax.set_ylim([-1.5,1.5])\n",
    "ax.set_yticks(np.arange(-1,2,1))\n",
    "sns.despine(left=True, bottom=True)    \n",
    "ax.set_title(\"Percentage of expression \\n disagreement between replicates\",fontsize=12)"
   ]
  },
  {
   "cell_type": "code",
   "execution_count": 11,
   "metadata": {
    "collapsed": false
   },
   "outputs": [],
   "source": [
    "miss_diff_pscnt={}\n",
    "sample1,sample2=samples\n",
    "res1=quant_stats[sample1]\n",
    "res2=quant_stats[sample2]\n",
    "x_dict={w[0]:w[4]/float(median_hk_trans[sample1]) for w in res1}\n",
    "y_dict={w[0]:w[4]/float(median_hk_trans[sample2]) for w in res2}\n",
    "keys=list(set(x_dict.keys())|set(y_dict.keys()))\n",
    "keys=filter(lambda x:\"ENST\" in x,keys)\n",
    "x=np.array(map(lambda w:x_dict[w] if w in x_dict else 0,keys))\n",
    "y=np.array(map(lambda w:y_dict[w] if w in y_dict else 0,keys))\n",
    "for pscnt in np.arange(0,5,0.1):\n",
    "    zz=find((np.multiply((y<=pscnt),(x<=pscnt))))        \n",
    "    gg=find((np.multiply((y>pscnt),(x>pscnt)))+\n",
    "              (np.multiply((y>pscnt),(x<=pscnt)))+\n",
    "              (np.multiply((x>pscnt),(y<=pscnt))))\n",
    "    lfc=(np.log2(x[gg]+0.5)-np.log2(y[gg]+0.5))\n",
    "    miss_diff_pscnt[pscnt]=[sum(np.multiply(abs(lfc)>1,lfc>=0)),\n",
    "                                         sum(np.multiply(abs(lfc)>1,lfc<0)),\n",
    "                                         sum(abs(lfc)<=1),\n",
    "                                         len(zz)\n",
    "                                        ]\n"
   ]
  },
  {
   "cell_type": "code",
   "execution_count": 12,
   "metadata": {
    "collapsed": false,
    "scrolled": false
   },
   "outputs": [
    {
     "data": {
      "image/png": "[encoded data removed]",
      "text/plain": [
       "<matplotlib.figure.Figure at 0x68496d0>"
      ]
     },
     "metadata": {},
     "output_type": "display_data"
    }
   ],
   "source": [
    "sns.set(style=\"white\",font_scale=2)\n",
    "fig, ax = plt.subplots(figsize=(14,8))\n",
    "x=[]\n",
    "y=[]\n",
    "for pscnt in np.arange(0,5,0.1):\n",
    "    md=miss_diff_pscnt[pscnt]\n",
    "    x.append(md[3]/float(sum(md))*100)\n",
    "    y.append(sum(md[0:2])/float(sum(md[0:4]))*100)\n",
    "ax.plot(x,y, alpha=0.8,linewidth=2)\n",
    "ax.set_xlabel(\"% Excluded\")\n",
    "ax.set_ylabel(\"% Expression disagreement\")\n",
    "ax.spines['top'].set_visible(False)\n",
    "ax.spines['right'].set_visible(False)\n",
    "ax.get_xaxis().tick_bottom()\n",
    "ax.get_yaxis().tick_left()\n"
   ]
  }
 ],
 "metadata": {
  "kernelspec": {
   "display_name": "Python 2",
   "language": "python",
   "name": "python2"
  },
  "language_info": {
   "codemirror_mode": {
    "name": "ipython",
    "version": 2
   },
   "file_extension": ".py",
   "mimetype": "text/x-python",
   "name": "python",
   "nbconvert_exporter": "python",
   "pygments_lexer": "ipython2",
   "version": "2.7.13"
  }
 },
 "nbformat": 4,
 "nbformat_minor": 0
}
